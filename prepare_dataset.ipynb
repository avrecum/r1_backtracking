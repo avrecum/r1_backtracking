{
 "cells": [
  {
   "cell_type": "code",
   "execution_count": 1,
   "metadata": {},
   "outputs": [],
   "source": [
    "import agi"
   ]
  },
  {
   "cell_type": "code",
   "execution_count": 2,
   "metadata": {},
   "outputs": [
    {
     "name": "stdout",
     "output_type": "stream",
     "text": [
      "'gr_data/task_data_math-olympiads_DeepSeek-R1.jsonl' already exists, skipping download.\n"
     ]
    }
   ],
   "source": [
    "import agi\n",
    "import os\n",
    "\n",
    "client = agi.Client(\"\")\n",
    "\n",
    "# Define the expected file path\n",
    "file_path = 'gr_data/task_data_math-olympiads_DeepSeek-R1.jsonl'\n",
    "\n",
    "# Download reasoning traces and verifications as a .jsonl only if it doesn't exist\n",
    "if not os.path.exists(file_path):\n",
    "    client.data.get(task='math-olympiads', model='DeepSeek-R1')\n",
    "else:\n",
    "    print(f\"'{file_path}' already exists, skipping download.\")"
   ]
  },
  {
   "cell_type": "code",
   "execution_count": 3,
   "metadata": {},
   "outputs": [],
   "source": [
    "from datasets import load_dataset\n",
    "\n",
    "# Load the downloaded JSONL file into a HuggingFace dataset\n",
    "dataset = load_dataset('json', data_files='gr_data/task_data_math-olympiads_DeepSeek-R1.jsonl')\n"
   ]
  },
  {
   "cell_type": "code",
   "execution_count": 4,
   "metadata": {},
   "outputs": [
    {
     "data": {
      "text/plain": [
       "Dataset({\n",
       "    features: ['question', 'answer_content', 'reasoning_content', 'reference_answer', 'verifier_score', 'id', 'metadata', 'community_score'],\n",
       "    num_rows: 11962\n",
       "})"
      ]
     },
     "execution_count": 4,
     "metadata": {},
     "output_type": "execute_result"
    }
   ],
   "source": [
    "dataset[\"train\"]"
   ]
  },
  {
   "cell_type": "code",
   "execution_count": 5,
   "metadata": {},
   "outputs": [
    {
     "data": {
      "text/plain": [
       "11962"
      ]
     },
     "execution_count": 5,
     "metadata": {},
     "output_type": "execute_result"
    }
   ],
   "source": [
    "len(dataset[\"train\"])"
   ]
  },
  {
   "cell_type": "code",
   "execution_count": 6,
   "metadata": {},
   "outputs": [
    {
     "data": {
      "text/plain": [
       "'Alright, so the question is whether there exists a convex quadrilateral where each diagonal divides it into two acute-angled triangles. Hmm, let me think about this step by step. \\n\\nFirst, let me recall some properties of convex quadrilaterals and their diagonals. In a convex quadrilateral, the two diagonals intersect each other inside the quadrilateral, dividing it into four triangles. The problem is specifically asking about each diagonal creating two acute-angled triangles. That means, for each diagonal, both of the triangles formed by that diagonal must have all their angles acute. \\n\\nOkay, so let\\'s start by considering one diagonal. Suppose we have quadrilateral ABCD with diagonal AC. If AC divides ABCD into triangles ABC and ACD, both of these triangles need to be acute. Similarly, the other diagonal BD should divide the quadrilateral into triangles ABD and BCD, which also need to be acute. \\n\\nWait, but each triangle has three angles. So for triangle ABC, all angles at A, B, and C must be acute. Similarly, triangle ACD must have all angles at A, C, and D acute. The same goes for triangles ABD and BCD with their respective angles. \\n\\nI need to check if such a quadrilateral can exist. Maybe I should start by trying to construct such a quadrilateral or see if there\\'s a contradiction that prevents this from happening. \\n\\nLet me consider the properties of acute triangles. In an acute triangle, all angles are less than 90 degrees. Therefore, in each of the four triangles formed by the diagonals, all angles must be acute. \\n\\nLet me try to imagine a convex quadrilateral. Since it\\'s convex, all interior angles are less than 180 degrees. But the key here is about the angles in the triangles formed by the diagonals. \\n\\nTake diagonal AC first. For triangle ABC to be acute, angles at A, B, and C must each be less than 90 degrees. Similarly, triangle ACD must have angles at A, C, and D each less than 90 degrees. But angle at A in triangle ABC is the same as angle at A in triangle ACD, right? Wait, no. In the quadrilateral, angle at vertex A is the angle between sides AB and AD. However, in triangle ABC, angle at A is between AB and AC, and in triangle ACD, angle at A is between AD and AC. So those are two different angles at vertex A. \\n\\nWait, hold on. In the quadrilateral ABCD, the original angle at A is formed by sides AB and AD. When we draw diagonal AC, the angle at A in triangle ABC is between AB and AC, and the angle at A in triangle ACD is between AD and AC. Therefore, these two angles at A (from the two triangles) must both be acute, and their sum is the original angle at A of the quadrilateral. Since the quadrilateral is convex, angle A must be less than 180 degrees. But if both angles at A from the triangles are acute (each less than 90 degrees), then their sum would be less than 180 degrees, which is okay because angle A is already less than 180 in a convex quadrilateral. So that\\'s possible. \\n\\nSimilarly, at vertex C, the angles in triangles ABC and ACD would be between BC & AC and CD & AC, respectively. Both of those angles must be acute, and their sum is angle C of the quadrilateral, which is less than 180. So same logic applies here. \\n\\nBut we also need angles at B and D in the triangles to be acute. For triangle ABC, angle at B is between AB and BC, which is the same as angle B in the quadrilateral. Wait, no. Wait, angle at B in triangle ABC is the same as angle B in the quadrilateral? Let me visualize. In quadrilateral ABCD, angle at B is between sides AB and BC. In triangle ABC, angle at B is indeed between AB and BC, so that angle is the same as angle B of the quadrilateral. Similarly, in triangle ABD, angle at B is between AB and BD. Wait, no. Wait, triangle ABD is formed by diagonal BD. So in triangle ABD, angle at B is between AB and BD, which is different from the original angle at B in the quadrilateral. \\n\\nWait, this is getting a bit confusing. Let me clarify. In the quadrilateral ABCD, each vertex has an angle formed by its two adjacent sides. When we draw a diagonal, say AC, the triangles ABC and ACD will have angles at the vertices that are parts of the original quadrilateral\\'s angles. Specifically, at vertex A, the original angle is split into two angles by the diagonal AC: one angle in triangle ABC and another in triangle ACD. Similarly, at vertex C, the original angle is split into two angles by AC. However, at vertices B and D, their angles in the triangles formed by diagonal AC are the same as their original angles in the quadrilateral. Wait, no. Wait, in triangle ABC, angle at B is the same as angle B in the quadrilateral because it\\'s between sides AB and BC. Similarly, in triangle ACD, angle at D is the same as angle D in the quadrilateral, between sides CD and DA. \\n\\nBut when we consider the other diagonal BD, the same applies. For triangles ABD and BCD, angles at A and C in these triangles would be split by diagonal BD, while angles at B and D in the triangles would be the original angles of the quadrilateral. \\n\\nWait, perhaps I need to correct myself. Let me take vertex B. In the quadrilateral, angle at B is between sides AB and BC. When we draw diagonal AC, triangle ABC has angle at B between AB and BC, which is the same as the original angle at B. However, when we draw diagonal BD, triangle ABD has angle at B between AB and BD, and triangle BCD has angle at B between BC and BD. Therefore, the original angle at B is split into two angles by diagonal BD. Similarly, angle at D is split by diagonal BD into two angles in triangles ABD and BCD. \\n\\nTherefore, for both diagonals AC and BD, the angles at each vertex are split into two parts by the diagonals. So, in order for all the triangles to be acute, all the angles in all four triangles must be acute. That includes the angles formed by the diagonals at each vertex. \\n\\nTherefore, the original angles at the vertices of the quadrilateral must be split by the diagonals into two acute angles. Moreover, the other angles in the triangles (i.e., the angles at the vertices where the diagonals meet) must also be acute. Wait, but the diagonals intersect each other inside the quadrilateral, forming four triangles. But the problem states that each diagonal divides the quadrilateral into two acute-angled triangles. So maybe the problem is not considering all four triangles, but rather each diagonal splits the quadrilateral into two triangles, and both of those triangles must be acute for each diagonal. \\n\\nWait, the problem says \"each diagonal of it divides it into two acute-angled triangles\". So for diagonal AC, the two triangles ABC and ACD must both be acute. Similarly, diagonal BD must divide the quadrilateral into two triangles ABD and BCD, which must both be acute. So even though the diagonals intersect, the problem is considering each diagonal separately. That is, when considering diagonal AC, we ignore diagonal BD, and check if both ABC and ACD are acute. Then, when considering diagonal BD, we ignore AC and check if ABD and BCD are acute. \\n\\nTherefore, even though in reality the diagonals intersect, but when considering each diagonal alone, the two triangles formed must be acute. That might be a bit different. \\n\\nTherefore, for diagonal AC: triangles ABC and ACD must each be acute. For triangle ABC to be acute, angles at A, B, and C (of triangle ABC) must be acute. Similarly, triangle ACD must have angles at A, C, and D (of triangle ACD) acute. But note that in triangle ABC, angle at A is between AB and AC, which is part of the original angle at A in the quadrilateral. Similarly, angle at C in triangle ABC is between BC and AC, part of the original angle at C. \\n\\nSimilarly, in triangle ACD, angle at A is between AD and AC, which is the other part of the original angle at A, and angle at C is between CD and AC, the other part of the original angle at C. \\n\\nTherefore, the original angles at A and C in the quadrilateral are split by diagonal AC into two parts, each of which must be acute (since they are angles in the triangles ABC and ACD). Therefore, the original angles at A and C must be the sum of two acute angles, meaning each original angle at A and C is less than 180, which is already true in a convex quadrilateral, but more specifically, each original angle at A and C must be less than 180 and greater than... Hmm, if they are split into two acute angles, each part is less than 90, so their sum must be less than 180. Wait, but in a convex quadrilateral, angles are already less than 180, so that\\'s okay. So angles at A and C are each split into two acute angles by diagonal AC. Similarly, angles at B and D would be split by diagonal BD into two acute angles. \\n\\nBut also, in each triangle, the third angle (the one not at a vertex of the quadrilateral) must be acute. For example, in triangle ABC, the angle at B is the original angle at B of the quadrilateral. Wait, no. Wait, in triangle ABC, the three angles are at A (split by AC), at B (original angle of quadrilateral), and at C (split by AC). Wait, no. Wait, triangle ABC has vertices A, B, C. The angles at A and C are parts of the original angles at A and C of the quadrilateral, split by diagonal AC. The angle at B is the same as the original angle at B of the quadrilateral. Wait, no, that\\'s not correct. \\n\\nWait, in quadrilateral ABCD, angle at B is between sides AB and BC. In triangle ABC, angle at B is the same as angle B in the quadrilateral, since it\\'s between AB and BC. Similarly, in triangle ABD, angle at B is between AB and BD, which is different. So, if we consider diagonal AC, then triangle ABC has angle at B same as quadrilateral\\'s angle at B, and triangle ACD has angle at D same as quadrilateral\\'s angle at D. \\n\\nSimilarly, when considering diagonal BD, triangle ABD has angle at A same as quadrilateral\\'s angle at A, and triangle BCD has angle at C same as quadrilateral\\'s angle at C. Wait, no. Wait, in triangle ABD, the angles at A and D are split by diagonal BD, but angle at B in triangle ABD is between AB and BD, which is different from the original angle at B. Hmm, maybe I\\'m getting confused here. \\n\\nWait, let\\'s clarify with an example. Let\\'s take quadrilateral ABCD. \\n\\n- When diagonal AC is drawn, the two triangles are ABC and ACD.\\n  - In triangle ABC:\\n    - Angle at A: between AB and AC\\n    - Angle at B: between AB and BC (original angle at B)\\n    - Angle at C: between BC and AC\\n  - In triangle ACD:\\n    - Angle at A: between AD and AC\\n    - Angle at C: between CD and AC\\n    - Angle at D: between CD and AD (original angle at D)\\n  \\n- When diagonal BD is drawn, the two triangles are ABD and BCD.\\n  - In triangle ABD:\\n    - Angle at A: between AB and AD (original angle at A)\\n    - Angle at B: between AB and BD\\n    - Angle at D: between AD and BD\\n  - In triangle BCD:\\n    - Angle at B: between BC and BD\\n    - Angle at C: between BC and CD (original angle at C)\\n    - Angle at D: between CD and BD\\n\\nSo, in each triangle formed by a diagonal, two of the angles are at the original vertices of the quadrilateral (but possibly split by the diagonal), and the third angle is at the intersection point with the other diagonal. Wait, no, actually, in triangle ABC, the angles at A, B, C are all vertices of the quadrilateral. The same for ACD, ABD, BCD. Wait, but BD intersects AC at some point inside the quadrilateral. However, when considering only diagonal AC, the triangles ABC and ACD do not involve the intersection point. Similarly, when considering diagonal BD, triangles ABD and BCD do not involve the intersection point. \\n\\nWait a minute, perhaps the problem is considering the diagonals one at a time, not intersecting. So, when you draw diagonal AC, you get triangles ABC and ACD, ignoring diagonal BD. Similarly, when you draw diagonal BD, you get triangles ABD and BCD, ignoring diagonal AC. So, in that case, all angles in those triangles are at the vertices of the quadrilateral. Therefore, for triangle ABC, angles at A, B, C must be acute. But angle at B in triangle ABC is the same as angle B in the quadrilateral. Similarly, angle at D in triangle ACD is the same as angle D in the quadrilateral. Therefore, angles B and D of the quadrilateral must be acute. Similarly, when considering diagonal BD, triangles ABD and BCD must have all angles acute. So angle at A in triangle ABD is the same as angle A in the quadrilateral, which must be acute, and angle at C in triangle BCD is the same as angle C in the quadrilateral, which must be acute. \\n\\nAdditionally, the other angles in the triangles (the ones split by the diagonals) must also be acute. For example, in triangle ABC, angles at A and C are parts of the original angles at A and C split by diagonal AC. So angle at A in triangle ABC (between AB and AC) must be acute, and angle at C in triangle ABC (between BC and AC) must be acute. Similarly, angle at A in triangle ACD (between AD and AC) must be acute, and angle at C in triangle ACD (between CD and AC) must be acute. \\n\\nTherefore, in the quadrilateral, each angle at A and C is split by diagonal AC into two acute angles. Similarly, angles at B and D are split by diagonal BD into two acute angles. \\n\\nTherefore, all four angles of the quadrilateral must be acute, since angles at B and D are part of triangles ABC and ACD (they are not split by diagonal AC), and angles at A and C are part of triangles ABD and BCD (they are not split by diagonal BD). Wait, but hold on. \\n\\nWait, angle at B in triangle ABC is the same as angle B in the quadrilateral, which must be acute. Similarly, angle at D in triangle ACD is angle D in the quadrilateral, which must be acute. When considering diagonal BD, angle at A in triangle ABD is the same as angle A in the quadrilateral, which must be acute, and angle at C in triangle BCD is angle C in the quadrilateral, which must be acute. \\n\\nTherefore, all four angles of the quadrilateral must be acute. But in a convex quadrilateral, the sum of the interior angles is 360 degrees. If all four angles are acute (each less than 90 degrees), then their sum would be less than 4*90 = 360, which is exactly 360. But if all angles are strictly less than 90, their sum would be less than 360, which contradicts the fact that the sum must be exactly 360 degrees. Therefore, it\\'s impossible for all four angles of a convex quadrilateral to be acute. \\n\\nWait, that\\'s a key point. In any convex quadrilateral, the sum of the interior angles is 360 degrees. If each angle is acute (i.e., less than 90 degrees), then the total sum would be less than 4*90 = 360, which is a contradiction. Therefore, a convex quadrilateral cannot have all four angles acute. Hence, at least one angle must be 90 degrees or more. \\n\\nBut in our problem, for the diagonals to divide the quadrilateral into acute triangles, we just concluded that all four angles of the quadrilateral must be acute. But this is impossible because of the angle sum. Therefore, such a quadrilateral cannot exist. \\n\\nWait, but hold on. Maybe there\\'s a mistake here. Let me double-check. The problem states that each diagonal divides the quadrilateral into two acute-angled triangles. If we need all four triangles (two for each diagonal) to be acute, then as per the previous reasoning, angles at all four vertices of the quadrilateral must be acute, which is impossible. Therefore, the answer is no, such a quadrilateral does not exist. \\n\\nBut let me confirm this conclusion. Suppose someone tries to construct a convex quadrilateral where all four angles are acute. But as we just saw, that\\'s impossible because 4*90 = 360, and if each angle is less than 90, the sum would be less than 360, which contradicts the total sum of 360 for a convex quadrilateral. Therefore, such a quadrilateral cannot exist, hence the answer is no. \\n\\nBut maybe there\\'s a way around this? Let me think. Suppose three angles are acute and one is right or obtuse. Then, maybe the diagonals could split the angles in such a way that all the resulting triangles are acute. But wait, for example, if one angle is obtuse, say angle A is 100 degrees, then when we split it with diagonal AC, each part would need to be less than 90 degrees. So 100 degrees split into two parts, each less than 90. That would require the two parts to add up to 100, so each less than 90. For example, 50 and 50. But then, in triangle ABC, angle at A is 50 (acute), angle at B is acute (since angle B is part of the quadrilateral, which is acute), and angle at C (split from original angle C) is also acute. But original angle C would also have to be split into two acute angles. However, if angle C is acute, say 80 degrees, then each split angle would be less than 80, so each part is less than 80, which is acute. \\n\\nBut wait, if angle A is 100 degrees (which is obtuse), then the quadrilateral already has an obtuse angle, but the problem only requires that the triangles formed by the diagonals are acute. However, in triangle ABC, angle at B is part of the quadrilateral\\'s angle B, which is acute. Similarly, angle at C in triangle ABC is part of angle C, which is split into two acute angles. However, angle at A in triangle ABC is part of the original angle A (which is 100 degrees), split into two parts. If angle A is split into two parts, each less than 90, then their sum is less than 180, but angle A is 100, which is less than 180. Wait, no. If angle A is 100, then split into two parts via diagonal AC, say x and y, such that x + y = 100. If both x and y are less than 90, then x + y < 90 + 90 = 180, which is okay because angle A is 100 < 180. But x + y = 100. So for x and y to both be less than 90, we need each to be less than 90. For example, x = 60 and y = 40. Then, in triangle ABC, angle at A is 60 (acute), angle at B is acute (say 80), and angle at C is 40 (acute). Then triangle ABC would have angles 60, 80, 40, which are all acute. Then triangle ACD would have angle at A = 40 (since 60 + 40 = 100), angle at C split into two parts (say 30 and 50, summing to angle C = 80), and angle at D (which is acute, say 70). So triangle ACD would have angles 40, 50, 90? Wait, no. Wait, angle at D is 70, angle at A is 40, and angle at C is 50, which sum to 160. That\\'s not possible. Wait, the sum of angles in a triangle must be 180. \\n\\nWait, let\\'s take this example step by step. Suppose we have quadrilateral ABCD with angle A = 100 degrees, split by diagonal AC into 60 and 40 degrees. Angle B is 80 degrees (acute). Angle C is 80 degrees, split by AC into 30 and 50 degrees. Angle D is 100 degrees (obtuse). Wait, but angle D is part of triangle ACD. In triangle ACD, angles at A: 40, at C: 50, and at D: 100. But 40 + 50 + 100 = 190, which is not possible. So that\\'s a contradiction. \\n\\nAlternatively, if angle D is 80 degrees (acute), then in triangle ACD, angles at A: 40, at C: 50, at D: 80. Then sum is 170, still not 180. Hmm, not possible. \\n\\nSo perhaps even if we have one obtuse angle in the quadrilateral, the triangles formed might not satisfy the angle sum. Therefore, this approach might not work. \\n\\nAlternatively, maybe all four angles of the quadrilateral are right angles, making it a rectangle. But then all triangles formed by the diagonals would be right-angled, not acute. So that doesn\\'t work. \\n\\nWait, so going back, if the quadrilateral has at least one non-acute angle, then in the triangles formed by the diagonals, that angle would appear as a non-acute angle in one of the triangles. For example, if angle B is 90 degrees or more, then triangle ABC (formed by diagonal AC) would have angle B as a right or obtuse angle, making triangle ABC non-acute. Therefore, all angles of the quadrilateral must be acute. But as established earlier, a convex quadrilateral cannot have all four angles acute. \\n\\nTherefore, such a quadrilateral cannot exist. \\n\\nBut let me check if there\\'s a different approach. Perhaps using some specific examples or mathematical theorems. \\n\\nI recall that in any triangle, the sum of angles is 180. In a convex quadrilateral, the sum of angles is 360. If all four angles are acute, their sum would be less than 360, which is a contradiction. Therefore, in a convex quadrilateral, at least one angle must be obtuse or right. \\n\\nTherefore, in such a quadrilateral, at least one of the triangles formed by a diagonal will include that non-acute angle, making the triangle non-acute. Hence, it\\'s impossible to have a convex quadrilateral where each diagonal divides it into two acute-angled triangles. \\n\\nTherefore, the answer is no, such a quadrilateral does not exist.'"
      ]
     },
     "execution_count": 6,
     "metadata": {},
     "output_type": "execute_result"
    }
   ],
   "source": [
    "dataset[\"train\"][0][\"reasoning_content\"]"
   ]
  },
  {
   "cell_type": "code",
   "execution_count": 12,
   "metadata": {},
   "outputs": [
    {
     "data": {
      "text/plain": [
       "{'question': 'Is there a convex quadrilateral such that each diagonal of it divides it into two acute-angled triangles?',\n",
       " 'answer_content': \"No, such a convex quadrilateral does not exist. Here's the reasoning:\\n\\n1. **Angle Sum Constraints**: In a convex quadrilateral, the sum of all interior angles is 360°. For all angles to be acute (each < 90°), their total would be less than 360°, which is impossible. Thus, at least one angle must be non-acute (≥ 90°).\\n\\n2. **Impact of Diagonals**: If a diagonal divides the quadrilateral into two triangles, each triangle must have all angles acute. However, if the original quadrilateral has a non-acute angle, this angle will directly appear in one of the triangles formed by a diagonal, violating the requirement for all triangle angles to be acute.\\n\\n3. **Contradiction**: Even if non-acute angles are split by diagonals, the resulting angles must still sum to the original non-acute angle. Splitting such an angle into two parts cannot make both parts acute (e.g., splitting 100° into two angles both < 90° would sum to < 180°, conflicting with the original angle's measure).\\n\\nThus, the necessity for all four quadrilateral angles to be acute (which is impossible) and the presence of at least one non-acute angle (leading to non-acute triangles) make such a quadrilateral nonexistent.\\n\\n**Answer:**  \\n\\\\boxed{\\\\text{No}}\",\n",
       " 'reasoning_content': 'Alright, so the question is whether there exists a convex quadrilateral where each diagonal divides it into two acute-angled triangles. Hmm, let me think about this step by step. \\n\\nFirst, let me recall some properties of convex quadrilaterals and their diagonals. In a convex quadrilateral, the two diagonals intersect each other inside the quadrilateral, dividing it into four triangles. The problem is specifically asking about each diagonal creating two acute-angled triangles. That means, for each diagonal, both of the triangles formed by that diagonal must have all their angles acute. \\n\\nOkay, so let\\'s start by considering one diagonal. Suppose we have quadrilateral ABCD with diagonal AC. If AC divides ABCD into triangles ABC and ACD, both of these triangles need to be acute. Similarly, the other diagonal BD should divide the quadrilateral into triangles ABD and BCD, which also need to be acute. \\n\\nWait, but each triangle has three angles. So for triangle ABC, all angles at A, B, and C must be acute. Similarly, triangle ACD must have all angles at A, C, and D acute. The same goes for triangles ABD and BCD with their respective angles. \\n\\nI need to check if such a quadrilateral can exist. Maybe I should start by trying to construct such a quadrilateral or see if there\\'s a contradiction that prevents this from happening. \\n\\nLet me consider the properties of acute triangles. In an acute triangle, all angles are less than 90 degrees. Therefore, in each of the four triangles formed by the diagonals, all angles must be acute. \\n\\nLet me try to imagine a convex quadrilateral. Since it\\'s convex, all interior angles are less than 180 degrees. But the key here is about the angles in the triangles formed by the diagonals. \\n\\nTake diagonal AC first. For triangle ABC to be acute, angles at A, B, and C must each be less than 90 degrees. Similarly, triangle ACD must have angles at A, C, and D each less than 90 degrees. But angle at A in triangle ABC is the same as angle at A in triangle ACD, right? Wait, no. In the quadrilateral, angle at vertex A is the angle between sides AB and AD. However, in triangle ABC, angle at A is between AB and AC, and in triangle ACD, angle at A is between AD and AC. So those are two different angles at vertex A. \\n\\nWait, hold on. In the quadrilateral ABCD, the original angle at A is formed by sides AB and AD. When we draw diagonal AC, the angle at A in triangle ABC is between AB and AC, and the angle at A in triangle ACD is between AD and AC. Therefore, these two angles at A (from the two triangles) must both be acute, and their sum is the original angle at A of the quadrilateral. Since the quadrilateral is convex, angle A must be less than 180 degrees. But if both angles at A from the triangles are acute (each less than 90 degrees), then their sum would be less than 180 degrees, which is okay because angle A is already less than 180 in a convex quadrilateral. So that\\'s possible. \\n\\nSimilarly, at vertex C, the angles in triangles ABC and ACD would be between BC & AC and CD & AC, respectively. Both of those angles must be acute, and their sum is angle C of the quadrilateral, which is less than 180. So same logic applies here. \\n\\nBut we also need angles at B and D in the triangles to be acute. For triangle ABC, angle at B is between AB and BC, which is the same as angle B in the quadrilateral. Wait, no. Wait, angle at B in triangle ABC is the same as angle B in the quadrilateral? Let me visualize. In quadrilateral ABCD, angle at B is between sides AB and BC. In triangle ABC, angle at B is indeed between AB and BC, so that angle is the same as angle B of the quadrilateral. Similarly, in triangle ABD, angle at B is between AB and BD. Wait, no. Wait, triangle ABD is formed by diagonal BD. So in triangle ABD, angle at B is between AB and BD, which is different from the original angle at B in the quadrilateral. \\n\\nWait, this is getting a bit confusing. Let me clarify. In the quadrilateral ABCD, each vertex has an angle formed by its two adjacent sides. When we draw a diagonal, say AC, the triangles ABC and ACD will have angles at the vertices that are parts of the original quadrilateral\\'s angles. Specifically, at vertex A, the original angle is split into two angles by the diagonal AC: one angle in triangle ABC and another in triangle ACD. Similarly, at vertex C, the original angle is split into two angles by AC. However, at vertices B and D, their angles in the triangles formed by diagonal AC are the same as their original angles in the quadrilateral. Wait, no. Wait, in triangle ABC, angle at B is the same as angle B in the quadrilateral because it\\'s between sides AB and BC. Similarly, in triangle ACD, angle at D is the same as angle D in the quadrilateral, between sides CD and DA. \\n\\nBut when we consider the other diagonal BD, the same applies. For triangles ABD and BCD, angles at A and C in these triangles would be split by diagonal BD, while angles at B and D in the triangles would be the original angles of the quadrilateral. \\n\\nWait, perhaps I need to correct myself. Let me take vertex B. In the quadrilateral, angle at B is between sides AB and BC. When we draw diagonal AC, triangle ABC has angle at B between AB and BC, which is the same as the original angle at B. However, when we draw diagonal BD, triangle ABD has angle at B between AB and BD, and triangle BCD has angle at B between BC and BD. Therefore, the original angle at B is split into two angles by diagonal BD. Similarly, angle at D is split by diagonal BD into two angles in triangles ABD and BCD. \\n\\nTherefore, for both diagonals AC and BD, the angles at each vertex are split into two parts by the diagonals. So, in order for all the triangles to be acute, all the angles in all four triangles must be acute. That includes the angles formed by the diagonals at each vertex. \\n\\nTherefore, the original angles at the vertices of the quadrilateral must be split by the diagonals into two acute angles. Moreover, the other angles in the triangles (i.e., the angles at the vertices where the diagonals meet) must also be acute. Wait, but the diagonals intersect each other inside the quadrilateral, forming four triangles. But the problem states that each diagonal divides the quadrilateral into two acute-angled triangles. So maybe the problem is not considering all four triangles, but rather each diagonal splits the quadrilateral into two triangles, and both of those triangles must be acute for each diagonal. \\n\\nWait, the problem says \"each diagonal of it divides it into two acute-angled triangles\". So for diagonal AC, the two triangles ABC and ACD must both be acute. Similarly, diagonal BD must divide the quadrilateral into two triangles ABD and BCD, which must both be acute. So even though the diagonals intersect, the problem is considering each diagonal separately. That is, when considering diagonal AC, we ignore diagonal BD, and check if both ABC and ACD are acute. Then, when considering diagonal BD, we ignore AC and check if ABD and BCD are acute. \\n\\nTherefore, even though in reality the diagonals intersect, but when considering each diagonal alone, the two triangles formed must be acute. That might be a bit different. \\n\\nTherefore, for diagonal AC: triangles ABC and ACD must each be acute. For triangle ABC to be acute, angles at A, B, and C (of triangle ABC) must be acute. Similarly, triangle ACD must have angles at A, C, and D (of triangle ACD) acute. But note that in triangle ABC, angle at A is between AB and AC, which is part of the original angle at A in the quadrilateral. Similarly, angle at C in triangle ABC is between BC and AC, part of the original angle at C. \\n\\nSimilarly, in triangle ACD, angle at A is between AD and AC, which is the other part of the original angle at A, and angle at C is between CD and AC, the other part of the original angle at C. \\n\\nTherefore, the original angles at A and C in the quadrilateral are split by diagonal AC into two parts, each of which must be acute (since they are angles in the triangles ABC and ACD). Therefore, the original angles at A and C must be the sum of two acute angles, meaning each original angle at A and C is less than 180, which is already true in a convex quadrilateral, but more specifically, each original angle at A and C must be less than 180 and greater than... Hmm, if they are split into two acute angles, each part is less than 90, so their sum must be less than 180. Wait, but in a convex quadrilateral, angles are already less than 180, so that\\'s okay. So angles at A and C are each split into two acute angles by diagonal AC. Similarly, angles at B and D would be split by diagonal BD into two acute angles. \\n\\nBut also, in each triangle, the third angle (the one not at a vertex of the quadrilateral) must be acute. For example, in triangle ABC, the angle at B is the original angle at B of the quadrilateral. Wait, no. Wait, in triangle ABC, the three angles are at A (split by AC), at B (original angle of quadrilateral), and at C (split by AC). Wait, no. Wait, triangle ABC has vertices A, B, C. The angles at A and C are parts of the original angles at A and C of the quadrilateral, split by diagonal AC. The angle at B is the same as the original angle at B of the quadrilateral. Wait, no, that\\'s not correct. \\n\\nWait, in quadrilateral ABCD, angle at B is between sides AB and BC. In triangle ABC, angle at B is the same as angle B in the quadrilateral, since it\\'s between AB and BC. Similarly, in triangle ABD, angle at B is between AB and BD, which is different. So, if we consider diagonal AC, then triangle ABC has angle at B same as quadrilateral\\'s angle at B, and triangle ACD has angle at D same as quadrilateral\\'s angle at D. \\n\\nSimilarly, when considering diagonal BD, triangle ABD has angle at A same as quadrilateral\\'s angle at A, and triangle BCD has angle at C same as quadrilateral\\'s angle at C. Wait, no. Wait, in triangle ABD, the angles at A and D are split by diagonal BD, but angle at B in triangle ABD is between AB and BD, which is different from the original angle at B. Hmm, maybe I\\'m getting confused here. \\n\\nWait, let\\'s clarify with an example. Let\\'s take quadrilateral ABCD. \\n\\n- When diagonal AC is drawn, the two triangles are ABC and ACD.\\n  - In triangle ABC:\\n    - Angle at A: between AB and AC\\n    - Angle at B: between AB and BC (original angle at B)\\n    - Angle at C: between BC and AC\\n  - In triangle ACD:\\n    - Angle at A: between AD and AC\\n    - Angle at C: between CD and AC\\n    - Angle at D: between CD and AD (original angle at D)\\n  \\n- When diagonal BD is drawn, the two triangles are ABD and BCD.\\n  - In triangle ABD:\\n    - Angle at A: between AB and AD (original angle at A)\\n    - Angle at B: between AB and BD\\n    - Angle at D: between AD and BD\\n  - In triangle BCD:\\n    - Angle at B: between BC and BD\\n    - Angle at C: between BC and CD (original angle at C)\\n    - Angle at D: between CD and BD\\n\\nSo, in each triangle formed by a diagonal, two of the angles are at the original vertices of the quadrilateral (but possibly split by the diagonal), and the third angle is at the intersection point with the other diagonal. Wait, no, actually, in triangle ABC, the angles at A, B, C are all vertices of the quadrilateral. The same for ACD, ABD, BCD. Wait, but BD intersects AC at some point inside the quadrilateral. However, when considering only diagonal AC, the triangles ABC and ACD do not involve the intersection point. Similarly, when considering diagonal BD, triangles ABD and BCD do not involve the intersection point. \\n\\nWait a minute, perhaps the problem is considering the diagonals one at a time, not intersecting. So, when you draw diagonal AC, you get triangles ABC and ACD, ignoring diagonal BD. Similarly, when you draw diagonal BD, you get triangles ABD and BCD, ignoring diagonal AC. So, in that case, all angles in those triangles are at the vertices of the quadrilateral. Therefore, for triangle ABC, angles at A, B, C must be acute. But angle at B in triangle ABC is the same as angle B in the quadrilateral. Similarly, angle at D in triangle ACD is the same as angle D in the quadrilateral. Therefore, angles B and D of the quadrilateral must be acute. Similarly, when considering diagonal BD, triangles ABD and BCD must have all angles acute. So angle at A in triangle ABD is the same as angle A in the quadrilateral, which must be acute, and angle at C in triangle BCD is the same as angle C in the quadrilateral, which must be acute. \\n\\nAdditionally, the other angles in the triangles (the ones split by the diagonals) must also be acute. For example, in triangle ABC, angles at A and C are parts of the original angles at A and C split by diagonal AC. So angle at A in triangle ABC (between AB and AC) must be acute, and angle at C in triangle ABC (between BC and AC) must be acute. Similarly, angle at A in triangle ACD (between AD and AC) must be acute, and angle at C in triangle ACD (between CD and AC) must be acute. \\n\\nTherefore, in the quadrilateral, each angle at A and C is split by diagonal AC into two acute angles. Similarly, angles at B and D are split by diagonal BD into two acute angles. \\n\\nTherefore, all four angles of the quadrilateral must be acute, since angles at B and D are part of triangles ABC and ACD (they are not split by diagonal AC), and angles at A and C are part of triangles ABD and BCD (they are not split by diagonal BD). Wait, but hold on. \\n\\nWait, angle at B in triangle ABC is the same as angle B in the quadrilateral, which must be acute. Similarly, angle at D in triangle ACD is angle D in the quadrilateral, which must be acute. When considering diagonal BD, angle at A in triangle ABD is the same as angle A in the quadrilateral, which must be acute, and angle at C in triangle BCD is angle C in the quadrilateral, which must be acute. \\n\\nTherefore, all four angles of the quadrilateral must be acute. But in a convex quadrilateral, the sum of the interior angles is 360 degrees. If all four angles are acute (each less than 90 degrees), then their sum would be less than 4*90 = 360, which is exactly 360. But if all angles are strictly less than 90, their sum would be less than 360, which contradicts the fact that the sum must be exactly 360 degrees. Therefore, it\\'s impossible for all four angles of a convex quadrilateral to be acute. \\n\\nWait, that\\'s a key point. In any convex quadrilateral, the sum of the interior angles is 360 degrees. If each angle is acute (i.e., less than 90 degrees), then the total sum would be less than 4*90 = 360, which is a contradiction. Therefore, a convex quadrilateral cannot have all four angles acute. Hence, at least one angle must be 90 degrees or more. \\n\\nBut in our problem, for the diagonals to divide the quadrilateral into acute triangles, we just concluded that all four angles of the quadrilateral must be acute. But this is impossible because of the angle sum. Therefore, such a quadrilateral cannot exist. \\n\\nWait, but hold on. Maybe there\\'s a mistake here. Let me double-check. The problem states that each diagonal divides the quadrilateral into two acute-angled triangles. If we need all four triangles (two for each diagonal) to be acute, then as per the previous reasoning, angles at all four vertices of the quadrilateral must be acute, which is impossible. Therefore, the answer is no, such a quadrilateral does not exist. \\n\\nBut let me confirm this conclusion. Suppose someone tries to construct a convex quadrilateral where all four angles are acute. But as we just saw, that\\'s impossible because 4*90 = 360, and if each angle is less than 90, the sum would be less than 360, which contradicts the total sum of 360 for a convex quadrilateral. Therefore, such a quadrilateral cannot exist, hence the answer is no. \\n\\nBut maybe there\\'s a way around this? Let me think. Suppose three angles are acute and one is right or obtuse. Then, maybe the diagonals could split the angles in such a way that all the resulting triangles are acute. But wait, for example, if one angle is obtuse, say angle A is 100 degrees, then when we split it with diagonal AC, each part would need to be less than 90 degrees. So 100 degrees split into two parts, each less than 90. That would require the two parts to add up to 100, so each less than 90. For example, 50 and 50. But then, in triangle ABC, angle at A is 50 (acute), angle at B is acute (since angle B is part of the quadrilateral, which is acute), and angle at C (split from original angle C) is also acute. But original angle C would also have to be split into two acute angles. However, if angle C is acute, say 80 degrees, then each split angle would be less than 80, so each part is less than 80, which is acute. \\n\\nBut wait, if angle A is 100 degrees (which is obtuse), then the quadrilateral already has an obtuse angle, but the problem only requires that the triangles formed by the diagonals are acute. However, in triangle ABC, angle at B is part of the quadrilateral\\'s angle B, which is acute. Similarly, angle at C in triangle ABC is part of angle C, which is split into two acute angles. However, angle at A in triangle ABC is part of the original angle A (which is 100 degrees), split into two parts. If angle A is split into two parts, each less than 90, then their sum is less than 180, but angle A is 100, which is less than 180. Wait, no. If angle A is 100, then split into two parts via diagonal AC, say x and y, such that x + y = 100. If both x and y are less than 90, then x + y < 90 + 90 = 180, which is okay because angle A is 100 < 180. But x + y = 100. So for x and y to both be less than 90, we need each to be less than 90. For example, x = 60 and y = 40. Then, in triangle ABC, angle at A is 60 (acute), angle at B is acute (say 80), and angle at C is 40 (acute). Then triangle ABC would have angles 60, 80, 40, which are all acute. Then triangle ACD would have angle at A = 40 (since 60 + 40 = 100), angle at C split into two parts (say 30 and 50, summing to angle C = 80), and angle at D (which is acute, say 70). So triangle ACD would have angles 40, 50, 90? Wait, no. Wait, angle at D is 70, angle at A is 40, and angle at C is 50, which sum to 160. That\\'s not possible. Wait, the sum of angles in a triangle must be 180. \\n\\nWait, let\\'s take this example step by step. Suppose we have quadrilateral ABCD with angle A = 100 degrees, split by diagonal AC into 60 and 40 degrees. Angle B is 80 degrees (acute). Angle C is 80 degrees, split by AC into 30 and 50 degrees. Angle D is 100 degrees (obtuse). Wait, but angle D is part of triangle ACD. In triangle ACD, angles at A: 40, at C: 50, and at D: 100. But 40 + 50 + 100 = 190, which is not possible. So that\\'s a contradiction. \\n\\nAlternatively, if angle D is 80 degrees (acute), then in triangle ACD, angles at A: 40, at C: 50, at D: 80. Then sum is 170, still not 180. Hmm, not possible. \\n\\nSo perhaps even if we have one obtuse angle in the quadrilateral, the triangles formed might not satisfy the angle sum. Therefore, this approach might not work. \\n\\nAlternatively, maybe all four angles of the quadrilateral are right angles, making it a rectangle. But then all triangles formed by the diagonals would be right-angled, not acute. So that doesn\\'t work. \\n\\nWait, so going back, if the quadrilateral has at least one non-acute angle, then in the triangles formed by the diagonals, that angle would appear as a non-acute angle in one of the triangles. For example, if angle B is 90 degrees or more, then triangle ABC (formed by diagonal AC) would have angle B as a right or obtuse angle, making triangle ABC non-acute. Therefore, all angles of the quadrilateral must be acute. But as established earlier, a convex quadrilateral cannot have all four angles acute. \\n\\nTherefore, such a quadrilateral cannot exist. \\n\\nBut let me check if there\\'s a different approach. Perhaps using some specific examples or mathematical theorems. \\n\\nI recall that in any triangle, the sum of angles is 180. In a convex quadrilateral, the sum of angles is 360. If all four angles are acute, their sum would be less than 360, which is a contradiction. Therefore, in a convex quadrilateral, at least one angle must be obtuse or right. \\n\\nTherefore, in such a quadrilateral, at least one of the triangles formed by a diagonal will include that non-acute angle, making the triangle non-acute. Hence, it\\'s impossible to have a convex quadrilateral where each diagonal divides it into two acute-angled triangles. \\n\\nTherefore, the answer is no, such a quadrilateral does not exist.',\n",
       " 'reference_answer': '\\\\text{Не существует.}',\n",
       " 'verifier_score': 1.0,\n",
       " 'id': 330634,\n",
       " 'metadata': {'question_license': 'Apache-2.0',\n",
       "  'question_source': 'Numina/NuminaMath'},\n",
       " 'community_score': {'answer': None, 'question': 1}}"
      ]
     },
     "execution_count": 12,
     "metadata": {},
     "output_type": "execute_result"
    }
   ],
   "source": [
    "dataset[\"train\"][0]"
   ]
  },
  {
   "cell_type": "code",
   "execution_count": 7,
   "metadata": {},
   "outputs": [
    {
     "name": "stdout",
     "output_type": "stream",
     "text": [
      "Total number of 'Wait' or 'But' occurrences: 849678\n",
      "Average number per reasoning: 71.03\n"
     ]
    }
   ],
   "source": [
    "def count_wait_but(reasoning_content):\n",
    "    # Convert to lowercase to catch all cases\n",
    "    text = reasoning_content.lower()\n",
    "    \n",
    "    # Count occurrences of \"wait\" and \"but\"\n",
    "    wait_count = text.count(\"wait\")\n",
    "    but_count = text.count(\"but\")\n",
    "    \n",
    "    return wait_count + but_count\n",
    "\n",
    "# Apply the function to all reasoning contents\n",
    "wait_but_counts = [count_wait_but(item[\"reasoning_content\"]) for item in dataset[\"train\"]]\n",
    "\n",
    "print(f\"Total number of 'Wait' or 'But' occurrences: {sum(wait_but_counts)}\")\n",
    "print(f\"Average number per reasoning: {sum(wait_but_counts)/len(wait_but_counts):.2f}\")\n"
   ]
  },
  {
   "cell_type": "code",
   "execution_count": 8,
   "metadata": {},
   "outputs": [
    {
     "name": "stdout",
     "output_type": "stream",
     "text": [
      "Top 20 most common sentence starters:\n",
      "\"wait, no\": 23213 times\n",
      "\"but the problem\": 18528 times\n",
      "\"let me check\": 13485 times\n",
      "\"alternatively, maybe the\": 12948 times\n",
      "\"for example, if\": 12839 times\n",
      "\"let me try\": 12244 times\n",
      "\"let me think\": 11380 times\n",
      "\"hmm\": 10639 times\n",
      "\"5\": 10393 times\n",
      "\"wait, but the\": 9622 times\n",
      "\"therefore, the answer\": 9268 times\n",
      "\"correct\": 8954 times\n",
      "\"wait, but in\": 8953 times\n",
      "\"but since the\": 8874 times\n",
      "\"we need to\": 8733 times\n",
      "\"2\": 8536 times\n",
      "\"e\": 7770 times\n",
      "\"alternatively, consider that\": 7749 times\n",
      "\"let's see\": 7653 times\n",
      "\"okay, so i\": 7363 times\n",
      "\"but this is\": 7206 times\n",
      "\"if we can\": 7138 times\n",
      "\"wait, but if\": 6682 times\n",
      "\"but let me\": 6287 times\n",
      "\"3\": 5972 times\n",
      "\"alternatively, use the\": 5936 times\n",
      "\"let me denote\": 5722 times\n",
      "\"however, the problem\": 5567 times\n",
      "\"but we need\": 5463 times\n",
      "\"but in the\": 5324 times\n",
      "\"wait, maybe the\": 5228 times\n",
      "\"but according to\": 5176 times\n",
      "\"alternatively, think of\": 5046 times\n",
      "\"wait, let me\": 4998 times\n",
      "\"maybe there's a\": 4859 times\n",
      "\"suppose we have\": 4701 times\n",
      "\"no\": 4570 times\n",
      "\"wait, the problem\": 4544 times\n",
      "\"wait, perhaps the\": 4492 times\n",
      "\"let me recall\": 4398 times\n",
      "\"4\": 4308 times\n",
      "\"but in our\": 4268 times\n",
      "\"but how does\": 4190 times\n",
      "\"but how to\": 4176 times\n",
      "\"let me consider\": 4084 times\n",
      "\"alternatively, perhaps the\": 4014 times\n",
      "\"but i need\": 3985 times\n",
      "\"for example, in\": 3924 times\n",
      "\"but wait, the\": 3835 times\n",
      "\"but in this\": 3813 times\n"
     ]
    }
   ],
   "source": [
    "import re\n",
    "from collections import Counter\n",
    "\n",
    "def get_sentence_starters(text, n_words=3):\n",
    "    # Split into sentences - handle multiple sentence-ending punctuation\n",
    "    sentences = re.split('[.!?]+', text)\n",
    "    \n",
    "    # Get the first n words of each sentence, skip empty sentences\n",
    "    starters = []\n",
    "    for sentence in sentences:\n",
    "        # Clean and split the sentence\n",
    "        sentence = sentence.strip()\n",
    "        if sentence:\n",
    "            words = sentence.split()\n",
    "            if words:\n",
    "                # Take up to n words, but don't exceed sentence length\n",
    "                starter = ' '.join(words[:min(n_words, len(words))])\n",
    "                starters.append(starter.lower())\n",
    "    \n",
    "    return starters\n",
    "\n",
    "# Get starters from all reasoning contents\n",
    "all_starters = []\n",
    "for item in dataset[\"train\"]:\n",
    "    starters = get_sentence_starters(item[\"reasoning_content\"])\n",
    "    all_starters.extend(starters)\n",
    "\n",
    "# Count the most common starters\n",
    "starter_counts = Counter(all_starters)\n",
    "\n",
    "# Print top 20 most common starters\n",
    "print(\"Top 20 most common sentence starters:\")\n",
    "for starter, count in starter_counts.most_common(50):\n",
    "    print(f'\"{starter}\": {count} times')\n"
   ]
  },
  {
   "cell_type": "code",
   "execution_count": 9,
   "metadata": {},
   "outputs": [
    {
     "name": "stdout",
     "output_type": "stream",
     "text": [
      "Token analysis:\n",
      "wait: [128000, 11748] -> <｜begin▁of▁sentence｜>wait\n",
      "but: [128000, 8248] -> <｜begin▁of▁sentence｜>but\n",
      "alternatively: [128000, 41512, 8046] -> <｜begin▁of▁sentence｜>alternatively\n"
     ]
    }
   ],
   "source": [
    "from transformers import AutoTokenizer\n",
    "\n",
    "# Load the tokenizer using AutoTokenizer\n",
    "tokenizer = AutoTokenizer.from_pretrained(\"deepseek-ai/DeepSeek-R1-Distill-Llama-8B\")\n",
    "# Tokenize a list of words to analyze token patterns\n",
    "words = [\"wait\", \"but\", \"alternatively\"]\n",
    "tokenizer.add_special_tokens = False\n",
    "\n",
    "print(\"Token analysis:\")\n",
    "for word in words:\n",
    "    tokens = tokenizer.encode(word)\n",
    "    print(f\"{word}: {tokens} -> {tokenizer.decode(tokens)}\")"
   ]
  },
  {
   "cell_type": "code",
   "execution_count": 13,
   "metadata": {},
   "outputs": [
    {
     "name": "stdout",
     "output_type": "stream",
     "text": [
      "Created dataset with 56007 reasoning prefix-suffix pairs\n",
      "Sample prefix: Alright, so the question is whether there exists a convex quadrilateral where each diagonal divides ...\n",
      "Sample suffix:  However, in triangle ABC, angle at B is part of the quadrilateral's angle B, which is acute. Simila...\n",
      "Sample marker:  However\n"
     ]
    }
   ],
   "source": [
    "import random\n",
    "import re\n",
    "from datasets import Dataset\n",
    "\n",
    "def get_reasoning_prefixes_and_suffixes(text, end_markers=None, k=5):\n",
    "    \"\"\"\n",
    "    Extract prefixes and their corresponding suffixes from reasoning text.\n",
    "    Prefixes end at the end of a sentence that comes before a marker,\n",
    "    and suffixes are everything after that point.\n",
    "    \n",
    "    Args:\n",
    "        text (str): The reasoning text to extract prefixes and suffixes from\n",
    "        end_markers (list): List of markers to look for\n",
    "        k (int): Maximum number of prefix-suffix pairs to return\n",
    "    \n",
    "    Returns:\n",
    "        tuple: Lists of prefixes, suffixes, and marker positions\n",
    "    \"\"\"\n",
    "    if end_markers is None:\n",
    "        end_markers = [\" Wait\", \" But\", \" Hmm\", \" However\"]\n",
    "    \n",
    "    prefixes = []\n",
    "    suffixes = []\n",
    "    markers = []\n",
    "    \n",
    "    # Find all occurrences of markers\n",
    "    for marker in end_markers:\n",
    "        # Find all indices of the marker\n",
    "        marker_indices = [m.start() for m in re.finditer(re.escape(marker), text)]\n",
    "        \n",
    "        for idx in marker_indices:\n",
    "            # Look for the end of the previous sentence\n",
    "            # Find the last period, exclamation mark, or question mark before the marker\n",
    "            sentence_end = max(\n",
    "                text.rfind('.', 0, idx),\n",
    "                text.rfind('!', 0, idx),\n",
    "                text.rfind('?', 0, idx)\n",
    "            )\n",
    "            \n",
    "            if sentence_end != -1:\n",
    "                # Extract the prefix (everything up to and including the sentence end)\n",
    "                prefix = text[:sentence_end + 1]\n",
    "                # Extract the suffix (everything after the sentence end)\n",
    "                suffix = text[sentence_end + 1:]\n",
    "                \n",
    "                prefixes.append(prefix)\n",
    "                suffixes.append(suffix)\n",
    "                markers.append(marker)\n",
    "    \n",
    "    # Return up to k random prefix-suffix pairs\n",
    "    if len(prefixes) > k:\n",
    "        selected_indices = random.sample(range(len(prefixes)), k)\n",
    "        return ([prefixes[i] for i in selected_indices], \n",
    "                [suffixes[i] for i in selected_indices],\n",
    "                [markers[i] for i in selected_indices])\n",
    "    return prefixes, suffixes, markers\n",
    "\n",
    "# Extract prefixes and suffixes from all reasoning contents\n",
    "all_prefixes = []\n",
    "all_suffixes = []\n",
    "all_markers = []\n",
    "prefix_sources = []\n",
    "questions = []\n",
    "answers = []\n",
    "\n",
    "for item in dataset[\"train\"]:\n",
    "    prefixes, suffixes, markers = get_reasoning_prefixes_and_suffixes(item[\"reasoning_content\"])\n",
    "    if prefixes:\n",
    "        all_prefixes.extend(prefixes)\n",
    "        all_suffixes.extend(suffixes)\n",
    "        all_markers.extend(markers)\n",
    "        # Keep track of which item each prefix came from\n",
    "        prefix_sources.extend([item[\"id\"]] * len(prefixes))\n",
    "        # Also keep the original question and answer\n",
    "        questions.extend([item[\"question\"]] * len(prefixes))\n",
    "        answers.extend([item[\"answer_content\"]] * len(prefixes))\n",
    "\n",
    "# Create a dataset with the prefixes and suffixes\n",
    "prefix_dataset = Dataset.from_dict({\n",
    "    \"prefix\": all_prefixes,\n",
    "    \"suffix\": all_suffixes,\n",
    "    \"marker\": all_markers,\n",
    "    \"source_id\": prefix_sources,\n",
    "    \"question\": questions,\n",
    "    \"answer\": answers\n",
    "})\n",
    "\n",
    "print(f\"Created dataset with {len(prefix_dataset)} reasoning prefix-suffix pairs\")\n",
    "if len(prefix_dataset) > 0:\n",
    "    print(f\"Sample prefix: {prefix_dataset[0]['prefix'][:100]}...\")\n",
    "    print(f\"Sample suffix: {prefix_dataset[0]['suffix'][:100]}...\")\n",
    "    print(f\"Sample marker: {prefix_dataset[0]['marker']}\")\n",
    "else:\n",
    "    print(\"No prefix-suffix pairs found\")\n"
   ]
  },
  {
   "cell_type": "code",
   "execution_count": 15,
   "metadata": {},
   "outputs": [
    {
     "data": {
      "application/vnd.jupyter.widget-view+json": {
       "model_id": "5708c7abf7344911a2d3d2229d9c0f1e",
       "version_major": 2,
       "version_minor": 0
      },
      "text/plain": [
       "Uploading the dataset shards:   0%|          | 0/3 [00:00<?, ?it/s]"
      ]
     },
     "metadata": {},
     "output_type": "display_data"
    },
    {
     "data": {
      "application/vnd.jupyter.widget-view+json": {
       "model_id": "d9a16c3be4d04d59ad6863d4b0451f4e",
       "version_major": 2,
       "version_minor": 0
      },
      "text/plain": [
       "Creating parquet from Arrow format:   0%|          | 0/19 [00:00<?, ?ba/s]"
      ]
     },
     "metadata": {},
     "output_type": "display_data"
    },
    {
     "data": {
      "application/vnd.jupyter.widget-view+json": {
       "model_id": "a744322dd9174b9e8c89fa577525b87e",
       "version_major": 2,
       "version_minor": 0
      },
      "text/plain": [
       "Creating parquet from Arrow format:   0%|          | 0/19 [00:00<?, ?ba/s]"
      ]
     },
     "metadata": {},
     "output_type": "display_data"
    },
    {
     "data": {
      "application/vnd.jupyter.widget-view+json": {
       "model_id": "e5ac30f7f0314956853ce291af3c2138",
       "version_major": 2,
       "version_minor": 0
      },
      "text/plain": [
       "Creating parquet from Arrow format:   0%|          | 0/19 [00:00<?, ?ba/s]"
      ]
     },
     "metadata": {},
     "output_type": "display_data"
    },
    {
     "name": "stdout",
     "output_type": "stream",
     "text": [
      "Dataset uploaded to Hugging Face at avrecum/reasoning_prefixes_suffixes (private)\n"
     ]
    }
   ],
   "source": [
    "# Upload the dataset to Hugging Face\n",
    "from huggingface_hub import login\n",
    "import os\n",
    "os.environ[\"HF_TOKEN\"] = \"\"\n",
    "\n",
    "# Push the dataset to the Hugging Face Hub\n",
    "prefix_dataset.push_to_hub(\n",
    "    \"avrecum/reasoning_prefixes_suffixes\",\n",
    "    private=True,\n",
    "    token=os.environ.get(\"HF_TOKEN\", None)\n",
    ")\n",
    "\n",
    "print(\"Dataset uploaded to Hugging Face at avrecum/reasoning_prefixes_suffixes (private)\")\n"
   ]
  },
  {
   "cell_type": "code",
   "execution_count": 24,
   "metadata": {},
   "outputs": [
    {
     "name": "stdout",
     "output_type": "stream",
     "text": [
      "Created dataset with 19397 reasoning prefix-suffix pairs\n",
      "Sample prefix: No, such a convex quadrilateral does not exist. Here's the reasoning:\n",
      "\n",
      "1. **Angle Sum Constraints**:...\n",
      "Sample suffix: For all angles to be acute (each < 90°), their total would be less than 360°, which is impossible. T...\n",
      "Sample marker: 167\n"
     ]
    }
   ],
   "source": [
    "def extract_reasoning_prefixes(text, min_prefix_length=50, max_prefix_length=500):\n",
    "    \"\"\"Extract reasoning prefixes from text by splitting at sentence boundaries.\"\"\"\n",
    "    prefixes = []\n",
    "    suffixes = []\n",
    "    markers = []\n",
    "    \n",
    "    # Skip if text is too short\n",
    "    if len(text) < min_prefix_length:\n",
    "        return [], [], []\n",
    "    \n",
    "    # Split text into sentences\n",
    "    # Look for common sentence endings followed by a space and capital letter\n",
    "    sentence_boundaries = []\n",
    "    for match in re.finditer(r'[.!?]\\s+[A-Z]', text):\n",
    "        sentence_boundaries.append(match.start() + 1)  # Include the punctuation\n",
    "    \n",
    "    # Add potential splitting points\n",
    "    for i in range(len(sentence_boundaries)):\n",
    "        split_point = sentence_boundaries[i]\n",
    "        \n",
    "        # Only consider if prefix is long enough\n",
    "        if split_point < min_prefix_length:\n",
    "            continue\n",
    "            \n",
    "        # Skip if prefix is too long\n",
    "        if split_point > max_prefix_length:\n",
    "            continue\n",
    "            \n",
    "        prefix = text[:split_point]\n",
    "        suffix = text[split_point+1:].lstrip()  # +1 to skip the space after punctuation\n",
    "        \n",
    "        # Skip if suffix starts with excluded phrases\n",
    "        # Check for phrases that indicate a change in reasoning direction\n",
    "        excluded_phrases = [\"Wait\", \"But\", \"Hmm\", \"However\"]\n",
    "        if any(suffix.lower().lstrip().startswith(phrase.lower()) for phrase in excluded_phrases):\n",
    "            continue\n",
    "            \n",
    "        prefixes.append(prefix)\n",
    "        suffixes.append(suffix)\n",
    "        markers.append(split_point)\n",
    "    \n",
    "    return prefixes, suffixes, markers\n",
    "\n",
    "def get_prefixes_without_specific_endings(dataset_split):\n",
    "    \"\"\"Extract prefixes that don't end with specific phrases from the dataset.\"\"\"\n",
    "    all_prefixes = []\n",
    "    all_suffixes = []\n",
    "    all_markers = []\n",
    "    prefix_sources = []\n",
    "    questions = []\n",
    "    answers = []\n",
    "    \n",
    "    for i, item in enumerate(dataset_split):\n",
    "        answer = item[\"answer_content\"]\n",
    "        item_id = item[\"id\"]\n",
    "        \n",
    "        # Extract prefixes and suffixes\n",
    "        prefixes, suffixes, markers = extract_reasoning_prefixes(answer)\n",
    "        \n",
    "        # Add to our collections\n",
    "        if prefixes:\n",
    "            all_prefixes.extend(prefixes)\n",
    "            all_suffixes.extend(suffixes)\n",
    "            all_markers.extend(markers)\n",
    "            prefix_sources.extend([item_id] * len(prefixes))\n",
    "            questions.extend([item[\"question\"]] * len(prefixes))\n",
    "            answers.extend([answer] * len(prefixes))\n",
    "    \n",
    "    # Create a dataset with the filtered prefixes and suffixes\n",
    "    filtered_dataset = Dataset.from_dict({\n",
    "        \"prefix\": all_prefixes,\n",
    "        \"suffix\": all_suffixes,\n",
    "        \"marker\": all_markers,\n",
    "        \"source_id\": prefix_sources,\n",
    "        \"question\": questions,\n",
    "        \"answer\": answers\n",
    "    })\n",
    "    \n",
    "    return filtered_dataset\n",
    "\n",
    "# Create the filtered dataset from the original dataset's train split\n",
    "filtered_prefix_dataset = get_prefixes_without_specific_endings(dataset[\"train\"])\n",
    "\n",
    "print(f\"Created dataset with {len(filtered_prefix_dataset)} reasoning prefix-suffix pairs\")\n",
    "if len(filtered_prefix_dataset) > 0:\n",
    "    print(f\"Sample prefix: {filtered_prefix_dataset[0]['prefix'][:100]}...\")\n",
    "    print(f\"Sample suffix: {filtered_prefix_dataset[0]['suffix'][:100]}...\")\n",
    "    print(f\"Sample marker: {filtered_prefix_dataset[0]['marker']}\")\n",
    "else:\n",
    "    print(\"No prefix-suffix pairs found\")"
   ]
  },
  {
   "cell_type": "code",
   "execution_count": 25,
   "metadata": {},
   "outputs": [
    {
     "data": {
      "application/vnd.jupyter.widget-view+json": {
       "model_id": "204a2f46cd3244689fc1b51ef5146b89",
       "version_major": 2,
       "version_minor": 0
      },
      "text/plain": [
       "Uploading the dataset shards:   0%|          | 0/1 [00:00<?, ?it/s]"
      ]
     },
     "metadata": {},
     "output_type": "display_data"
    },
    {
     "data": {
      "application/vnd.jupyter.widget-view+json": {
       "model_id": "8515b2ebd4d94db98b4d8b14869c9ad4",
       "version_major": 2,
       "version_minor": 0
      },
      "text/plain": [
       "Creating parquet from Arrow format:   0%|          | 0/20 [00:00<?, ?ba/s]"
      ]
     },
     "metadata": {},
     "output_type": "display_data"
    },
    {
     "data": {
      "application/vnd.jupyter.widget-view+json": {
       "model_id": "5e884af8e51b4c6cbaa52bfd78344ccf",
       "version_major": 2,
       "version_minor": 0
      },
      "text/plain": [
       "README.md:   0%|          | 0.00/458 [00:00<?, ?B/s]"
      ]
     },
     "metadata": {},
     "output_type": "display_data"
    },
    {
     "name": "stdout",
     "output_type": "stream",
     "text": [
      "Filtered dataset uploaded to Hugging Face at avrecum/reasoning_prefixes_suffixes_filtered (private)\n"
     ]
    }
   ],
   "source": [
    "# Upload the filtered dataset to Hugging Face\n",
    "filtered_prefix_dataset.push_to_hub(\n",
    "    \"avrecum/reasoning_prefixes_suffixes_no_backtracking\",\n",
    "    private=True,\n",
    "    token=os.environ.get(\"HF_TOKEN\", None)\n",
    ")\n",
    "\n",
    "print(\"Filtered dataset uploaded to Hugging Face at avrecum/reasoning_prefixes_suffixes_filtered (private)\")\n"
   ]
  },
  {
   "cell_type": "code",
   "execution_count": 27,
   "metadata": {},
   "outputs": [
    {
     "name": "stdout",
     "output_type": "stream",
     "text": [
      "Created random splits dataset with 58663 prefix-suffix pairs\n",
      "Sample random prefix:  acute angles. \n",
      "\n",
      "Therefore, all four angles of the...\n",
      "Sample random suffix: quadrilateral must be acute, since angles at B and...\n"
     ]
    }
   ],
   "source": [
    "# Create a dataset with random splittings of reasoning traces\n",
    "def create_random_splits(dataset, num_splits_per_item=5, min_prefix_length=50, max_prefix_length=None):\n",
    "    \"\"\"\n",
    "    Create random splits of reasoning traces without regard for sentence boundaries.\n",
    "    \n",
    "    Args:\n",
    "        dataset: The dataset containing reasoning traces\n",
    "        num_splits_per_item: Number of random splits to create per reasoning trace\n",
    "        min_prefix_length: Minimum length of prefix in characters\n",
    "        max_prefix_length: Maximum length of prefix in characters (defaults to None)\n",
    "    \n",
    "    Returns:\n",
    "        A dataset with random prefix-suffix pairs\n",
    "    \"\"\"\n",
    "    import random\n",
    "    \n",
    "    all_prefixes = []\n",
    "    all_suffixes = []\n",
    "    all_markers = []\n",
    "    prefix_sources = []\n",
    "    questions = []\n",
    "    answers = []\n",
    "    \n",
    "    # Define markers that should not start the suffix\n",
    "    end_markers = [\" Wait\", \" But\", \" Hmm\", \" However\"]\n",
    "    \n",
    "    for item in dataset:\n",
    "        item_id = item[\"id\"]\n",
    "        answer = item.get(\"reasoning_content\", \"\")\n",
    "        \n",
    "        if not answer or len(answer) < min_prefix_length + 20:  # Ensure enough content for meaningful splits\n",
    "            continue\n",
    "        \n",
    "        # Determine the valid range for split points\n",
    "        min_idx = min_prefix_length\n",
    "        max_idx = len(answer) - 20  # Ensure suffix is at least 20 chars\n",
    "        \n",
    "        if max_prefix_length:\n",
    "            max_idx = min(max_idx, max_prefix_length)\n",
    "        \n",
    "        if min_idx >= max_idx:\n",
    "            continue\n",
    "        \n",
    "        # Create random splits\n",
    "        for _ in range(num_splits_per_item):\n",
    "            # Choose a random split point\n",
    "            split_idx = random.randint(min_idx, max_idx)\n",
    "            \n",
    "            # Find the nearest space to make the split after a complete word\n",
    "            space_after = answer.find(\" \", split_idx)\n",
    "            if space_after == -1:  # No space found after split_idx\n",
    "                space_after = len(answer) - 1\n",
    "            \n",
    "            # Check if the suffix starts with any of the end markers\n",
    "            valid_split = True\n",
    "            suffix_start = answer[space_after:space_after+10].lower()\n",
    "            for marker in end_markers:\n",
    "                if suffix_start.lower().startswith(marker.lower()):\n",
    "                    valid_split = False\n",
    "                    break\n",
    "            \n",
    "            if not valid_split:\n",
    "                continue\n",
    "            \n",
    "            # Create the prefix and suffix\n",
    "            prefix = answer[:space_after].strip()\n",
    "            suffix = answer[space_after:].strip()\n",
    "            \n",
    "            # Add to our collections\n",
    "            all_prefixes.append(prefix)\n",
    "            all_suffixes.append(suffix)\n",
    "            all_markers.append(\"random_split\")\n",
    "            prefix_sources.append(item_id)\n",
    "            questions.append(item[\"question\"])\n",
    "            answers.append(answer)\n",
    "    \n",
    "    # Create a dataset with the random splits\n",
    "    random_splits_dataset = Dataset.from_dict({\n",
    "        \"prefix\": all_prefixes,\n",
    "        \"suffix\": all_suffixes,\n",
    "        \"marker\": all_markers,\n",
    "        \"source_id\": prefix_sources,\n",
    "        \"question\": questions,\n",
    "        \"answer\": answers\n",
    "    })\n",
    "    \n",
    "    return random_splits_dataset\n",
    "\n",
    "# Create the random splits dataset from the original dataset's train split\n",
    "random_splits_dataset = create_random_splits(\n",
    "    dataset[\"train\"], \n",
    "    num_splits_per_item=5,\n",
    "    min_prefix_length=100\n",
    ")\n",
    "\n",
    "print(f\"Created random splits dataset with {len(random_splits_dataset)} prefix-suffix pairs\")\n",
    "if len(random_splits_dataset) > 0:\n",
    "    print(f\"Sample random prefix: {random_splits_dataset[0]['prefix'][-50:]}...\")\n",
    "    print(f\"Sample random suffix: {random_splits_dataset[0]['suffix'][:50]}...\")"
   ]
  },
  {
   "cell_type": "code",
   "execution_count": 28,
   "metadata": {},
   "outputs": [
    {
     "data": {
      "application/vnd.jupyter.widget-view+json": {
       "model_id": "62ce50c95ff2470a8e6be9c4ad0e69df",
       "version_major": 2,
       "version_minor": 0
      },
      "text/plain": [
       "Uploading the dataset shards:   0%|          | 0/5 [00:00<?, ?it/s]"
      ]
     },
     "metadata": {},
     "output_type": "display_data"
    },
    {
     "data": {
      "application/vnd.jupyter.widget-view+json": {
       "model_id": "3716324da7324b9fb1b35674e1a69c2f",
       "version_major": 2,
       "version_minor": 0
      },
      "text/plain": [
       "Creating parquet from Arrow format:   0%|          | 0/12 [00:00<?, ?ba/s]"
      ]
     },
     "metadata": {},
     "output_type": "display_data"
    },
    {
     "data": {
      "application/vnd.jupyter.widget-view+json": {
       "model_id": "a6e1beb0e52644f5a106e6bbf8c2b935",
       "version_major": 2,
       "version_minor": 0
      },
      "text/plain": [
       "Creating parquet from Arrow format:   0%|          | 0/12 [00:00<?, ?ba/s]"
      ]
     },
     "metadata": {},
     "output_type": "display_data"
    },
    {
     "data": {
      "application/vnd.jupyter.widget-view+json": {
       "model_id": "2189a9cd35df4cdab5f0217eb8a1d057",
       "version_major": 2,
       "version_minor": 0
      },
      "text/plain": [
       "Creating parquet from Arrow format:   0%|          | 0/12 [00:00<?, ?ba/s]"
      ]
     },
     "metadata": {},
     "output_type": "display_data"
    },
    {
     "data": {
      "application/vnd.jupyter.widget-view+json": {
       "model_id": "670de042672841768089c3c9af20d266",
       "version_major": 2,
       "version_minor": 0
      },
      "text/plain": [
       "Creating parquet from Arrow format:   0%|          | 0/12 [00:00<?, ?ba/s]"
      ]
     },
     "metadata": {},
     "output_type": "display_data"
    },
    {
     "data": {
      "application/vnd.jupyter.widget-view+json": {
       "model_id": "88ef3d35654e48d792ffba837c7ad2ea",
       "version_major": 2,
       "version_minor": 0
      },
      "text/plain": [
       "Creating parquet from Arrow format:   0%|          | 0/12 [00:00<?, ?ba/s]"
      ]
     },
     "metadata": {},
     "output_type": "display_data"
    },
    {
     "name": "stdout",
     "output_type": "stream",
     "text": [
      "Random splits dataset uploaded to Hugging Face at avrecum/reasoning_random_splits (private)\n"
     ]
    }
   ],
   "source": [
    "\n",
    "# Upload the random splits dataset to Hugging Face\n",
    "random_splits_dataset.push_to_hub(\n",
    "    \"avrecum/reasoning_prefixes_suffixes_no_backtracking_random\",\n",
    "    private=True,\n",
    "    token=os.environ.get(\"HF_TOKEN\", None)\n",
    ")\n",
    "\n",
    "print(\"Random splits dataset uploaded to Hugging Face at avrecum/reasoning_random_splits (private)\")\n"
   ]
  },
  {
   "cell_type": "code",
   "execution_count": null,
   "metadata": {},
   "outputs": [],
   "source": []
  }
 ],
 "metadata": {
  "kernelspec": {
   "display_name": "arena",
   "language": "python",
   "name": "python3"
  },
  "language_info": {
   "codemirror_mode": {
    "name": "ipython",
    "version": 3
   },
   "file_extension": ".py",
   "mimetype": "text/x-python",
   "name": "python",
   "nbconvert_exporter": "python",
   "pygments_lexer": "ipython3",
   "version": "3.12.9"
  }
 },
 "nbformat": 4,
 "nbformat_minor": 2
}
